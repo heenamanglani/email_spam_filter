{
 "cells": [
  {
   "cell_type": "markdown",
   "metadata": {
    "id": "LLJgvzOP4k8l"
   },
   "source": []
  },
  {
   "cell_type": "markdown",
   "metadata": {
    "id": "uXQpW8o_4k8m"
   },
   "source": [
    "# <center> Machine Learning project on email spam filter </center>\n"
   ]
  },
  {
   "cell_type": "markdown",
   "metadata": {
    "id": "XAJipUxB4k8m"
   },
   "source": [
    "## Introduction"
   ]
  },
  {
   "cell_type": "markdown",
   "metadata": {
    "id": "BQ4cWMh84k8m"
   },
   "source": [
    "*__Scope of the project__* :  <br>\n",
    "    To Build an email spam filter which marks the incoming emails of all employees as spam or non-spam.\n",
    "\n",
    "\n",
    "*__Objective:__*\n",
    "<ol>\n",
    "    <li> To identify a maximum number of spam emails. <b> Implies : Maximum True Positives</b>  ✅ </li>  \n",
    "    <li> Maximum of 0.2% of all legitimate emails being classified incorrectly <b> Implies : False Positives $<$ 0.2%</b>  ✅ </li>  \n",
    "    <li> To find what percentage of incoming spam emails will be identifed in the future. ✅ </li>\n",
    "</ol>"
   ]
  },
  {
   "cell_type": "code",
   "execution_count": null,
   "metadata": {
    "id": "Nmr23OQe4k8m"
   },
   "outputs": [],
   "source": [
    "import scipy.io\n",
    "import scipy.sparse\n",
    "\n",
    "import pandas as pd\n",
    "import numpy as np\n",
    "\n",
    "import matplotlib.pyplot as plt\n",
    "import seaborn as sns\n",
    "\n",
    "from sklearn.metrics import  confusion_matrix, accuracy_score,  roc_auc_score, roc_curve, auc\n",
    "\n",
    "import warnings\n",
    "warnings.filterwarnings('ignore')"
   ]
  },
  {
   "cell_type": "code",
   "source": [
    "from google.colab import drive\n",
    "drive.mount('/content/drive')"
   ],
   "metadata": {
    "id": "RfVKkywh4q7i",
    "colab": {
     "base_uri": "https://localhost:8080/"
    },
    "outputId": "1bae6e11-c53f-477c-dbf3-5dfcd770b7c5"
   },
   "execution_count": null,
   "outputs": [
    {
     "output_type": "stream",
     "name": "stdout",
     "text": [
      "Mounted at /content/drive\n"
     ]
    }
   ]
  },
  {
   "cell_type": "markdown",
   "metadata": {
    "id": "7FGNDMWi4k8n"
   },
   "source": [
    "### Load and check the data <a id = \"11\" text goes here></a>"
   ]
  },
  {
   "cell_type": "code",
   "execution_count": null,
   "metadata": {
    "colab": {
     "base_uri": "https://localhost:8080/"
    },
    "id": "eF5SWcqT4k8n",
    "outputId": "aec29091-bfde-4692-cc77-6b3e5b1fa723"
   },
   "outputs": [
    {
     "output_type": "stream",
     "name": "stdout",
     "text": [
      "<class 'dict'> \n",
      "\n",
      "There are  5  elements in the data provided.\n",
      "\n",
      "(10000, 57173)\n",
      "(10000, 1)\n"
     ]
    }
   ],
   "source": [
    "dataset = scipy.io.loadmat('/content/drive/MyDrive/emails.mat')\n",
    "print(type(dataset),\"\\n\")\n",
    "print(\"There are \",len(dataset),\" elements in the data provided.\\n\")\n",
    "\n",
    "#print(dataset[\"X\"])\n",
    "#print(dataset[\"Y\"])\n",
    "\n",
    "X = dataset[\"X\"].T\n",
    "y = dataset[\"Y\"].T\n",
    "\n",
    "print(X.shape)\n",
    "print(y.shape)"
   ]
  },
  {
   "cell_type": "markdown",
   "metadata": {
    "id": "fr9dQKej4k8o"
   },
   "source": [
    "The items X, Y represent the features and labels respectively. <br>\n",
    "Total number of emails is 10,000. <br>\n",
    "Total number of words is 57,173. <br>"
   ]
  },
  {
   "cell_type": "code",
   "execution_count": null,
   "metadata": {
    "id": "G-5RnZca4k8o",
    "colab": {
     "base_uri": "https://localhost:8080/",
     "height": 233
    },
    "outputId": "81c0083c-9ec4-4628-ce4e-82325c669173"
   },
   "outputs": [
    {
     "output_type": "execute_result",
     "data": {
      "text/plain": [
       "   0      1      2      3      4      5      6      7      8      9      ...  \\\n",
       "0    0.0    0.0    0.0    0.0    0.0    0.0    0.0    0.0    0.0    0.0  ...   \n",
       "1    0.0    0.0    0.0    0.0    0.0    0.0    0.0    0.0    0.0    0.0  ...   \n",
       "2    0.0    0.0    0.0    0.0    0.0    0.0    0.0    0.0    0.0    0.0  ...   \n",
       "3    0.0    0.0    0.0    0.0    0.0    0.0    0.0    0.0    0.0    0.0  ...   \n",
       "4    0.0    0.0    0.0    0.0    0.0    0.0    0.0    0.0    0.0    0.0  ...   \n",
       "\n",
       "   57163  57164  57165  57166  57167  57168  57169  57170  57171  57172  \n",
       "0    0.0    0.0    0.0    0.0    0.0    0.0    0.0    0.0    0.0    0.0  \n",
       "1    0.0    0.0    0.0    0.0    0.0    0.0    0.0    0.0    0.0    0.0  \n",
       "2    0.0    0.0    0.0    0.0    0.0    0.0    0.0    0.0    0.0    0.0  \n",
       "3    0.0    0.0    0.0    0.0    0.0    0.0    0.0    0.0    0.0    0.0  \n",
       "4    0.0    0.0    0.0    0.0    0.0    0.0    0.0    0.0    0.0    0.0  \n",
       "\n",
       "[5 rows x 57173 columns]"
      ],
      "text/html": [
       "\n",
       "  <div id=\"df-50de006b-e245-4029-af5d-396bd32e326d\" class=\"colab-df-container\">\n",
       "    <div>\n",
       "<style scoped>\n",
       "    .dataframe tbody tr th:only-of-type {\n",
       "        vertical-align: middle;\n",
       "    }\n",
       "\n",
       "    .dataframe tbody tr th {\n",
       "        vertical-align: top;\n",
       "    }\n",
       "\n",
       "    .dataframe thead th {\n",
       "        text-align: right;\n",
       "    }\n",
       "</style>\n",
       "<table border=\"1\" class=\"dataframe\">\n",
       "  <thead>\n",
       "    <tr style=\"text-align: right;\">\n",
       "      <th></th>\n",
       "      <th>0</th>\n",
       "      <th>1</th>\n",
       "      <th>2</th>\n",
       "      <th>3</th>\n",
       "      <th>4</th>\n",
       "      <th>5</th>\n",
       "      <th>6</th>\n",
       "      <th>7</th>\n",
       "      <th>8</th>\n",
       "      <th>9</th>\n",
       "      <th>...</th>\n",
       "      <th>57163</th>\n",
       "      <th>57164</th>\n",
       "      <th>57165</th>\n",
       "      <th>57166</th>\n",
       "      <th>57167</th>\n",
       "      <th>57168</th>\n",
       "      <th>57169</th>\n",
       "      <th>57170</th>\n",
       "      <th>57171</th>\n",
       "      <th>57172</th>\n",
       "    </tr>\n",
       "  </thead>\n",
       "  <tbody>\n",
       "    <tr>\n",
       "      <th>0</th>\n",
       "      <td>0.0</td>\n",
       "      <td>0.0</td>\n",
       "      <td>0.0</td>\n",
       "      <td>0.0</td>\n",
       "      <td>0.0</td>\n",
       "      <td>0.0</td>\n",
       "      <td>0.0</td>\n",
       "      <td>0.0</td>\n",
       "      <td>0.0</td>\n",
       "      <td>0.0</td>\n",
       "      <td>...</td>\n",
       "      <td>0.0</td>\n",
       "      <td>0.0</td>\n",
       "      <td>0.0</td>\n",
       "      <td>0.0</td>\n",
       "      <td>0.0</td>\n",
       "      <td>0.0</td>\n",
       "      <td>0.0</td>\n",
       "      <td>0.0</td>\n",
       "      <td>0.0</td>\n",
       "      <td>0.0</td>\n",
       "    </tr>\n",
       "    <tr>\n",
       "      <th>1</th>\n",
       "      <td>0.0</td>\n",
       "      <td>0.0</td>\n",
       "      <td>0.0</td>\n",
       "      <td>0.0</td>\n",
       "      <td>0.0</td>\n",
       "      <td>0.0</td>\n",
       "      <td>0.0</td>\n",
       "      <td>0.0</td>\n",
       "      <td>0.0</td>\n",
       "      <td>0.0</td>\n",
       "      <td>...</td>\n",
       "      <td>0.0</td>\n",
       "      <td>0.0</td>\n",
       "      <td>0.0</td>\n",
       "      <td>0.0</td>\n",
       "      <td>0.0</td>\n",
       "      <td>0.0</td>\n",
       "      <td>0.0</td>\n",
       "      <td>0.0</td>\n",
       "      <td>0.0</td>\n",
       "      <td>0.0</td>\n",
       "    </tr>\n",
       "    <tr>\n",
       "      <th>2</th>\n",
       "      <td>0.0</td>\n",
       "      <td>0.0</td>\n",
       "      <td>0.0</td>\n",
       "      <td>0.0</td>\n",
       "      <td>0.0</td>\n",
       "      <td>0.0</td>\n",
       "      <td>0.0</td>\n",
       "      <td>0.0</td>\n",
       "      <td>0.0</td>\n",
       "      <td>0.0</td>\n",
       "      <td>...</td>\n",
       "      <td>0.0</td>\n",
       "      <td>0.0</td>\n",
       "      <td>0.0</td>\n",
       "      <td>0.0</td>\n",
       "      <td>0.0</td>\n",
       "      <td>0.0</td>\n",
       "      <td>0.0</td>\n",
       "      <td>0.0</td>\n",
       "      <td>0.0</td>\n",
       "      <td>0.0</td>\n",
       "    </tr>\n",
       "    <tr>\n",
       "      <th>3</th>\n",
       "      <td>0.0</td>\n",
       "      <td>0.0</td>\n",
       "      <td>0.0</td>\n",
       "      <td>0.0</td>\n",
       "      <td>0.0</td>\n",
       "      <td>0.0</td>\n",
       "      <td>0.0</td>\n",
       "      <td>0.0</td>\n",
       "      <td>0.0</td>\n",
       "      <td>0.0</td>\n",
       "      <td>...</td>\n",
       "      <td>0.0</td>\n",
       "      <td>0.0</td>\n",
       "      <td>0.0</td>\n",
       "      <td>0.0</td>\n",
       "      <td>0.0</td>\n",
       "      <td>0.0</td>\n",
       "      <td>0.0</td>\n",
       "      <td>0.0</td>\n",
       "      <td>0.0</td>\n",
       "      <td>0.0</td>\n",
       "    </tr>\n",
       "    <tr>\n",
       "      <th>4</th>\n",
       "      <td>0.0</td>\n",
       "      <td>0.0</td>\n",
       "      <td>0.0</td>\n",
       "      <td>0.0</td>\n",
       "      <td>0.0</td>\n",
       "      <td>0.0</td>\n",
       "      <td>0.0</td>\n",
       "      <td>0.0</td>\n",
       "      <td>0.0</td>\n",
       "      <td>0.0</td>\n",
       "      <td>...</td>\n",
       "      <td>0.0</td>\n",
       "      <td>0.0</td>\n",
       "      <td>0.0</td>\n",
       "      <td>0.0</td>\n",
       "      <td>0.0</td>\n",
       "      <td>0.0</td>\n",
       "      <td>0.0</td>\n",
       "      <td>0.0</td>\n",
       "      <td>0.0</td>\n",
       "      <td>0.0</td>\n",
       "    </tr>\n",
       "  </tbody>\n",
       "</table>\n",
       "<p>5 rows × 57173 columns</p>\n",
       "</div>\n",
       "    <div class=\"colab-df-buttons\">\n",
       "\n",
       "  <div class=\"colab-df-container\">\n",
       "    <button class=\"colab-df-convert\" onclick=\"convertToInteractive('df-50de006b-e245-4029-af5d-396bd32e326d')\"\n",
       "            title=\"Convert this dataframe to an interactive table.\"\n",
       "            style=\"display:none;\">\n",
       "\n",
       "  <svg xmlns=\"http://www.w3.org/2000/svg\" height=\"24px\" viewBox=\"0 -960 960 960\">\n",
       "    <path d=\"M120-120v-720h720v720H120Zm60-500h600v-160H180v160Zm220 220h160v-160H400v160Zm0 220h160v-160H400v160ZM180-400h160v-160H180v160Zm440 0h160v-160H620v160ZM180-180h160v-160H180v160Zm440 0h160v-160H620v160Z\"/>\n",
       "  </svg>\n",
       "    </button>\n",
       "\n",
       "  <style>\n",
       "    .colab-df-container {\n",
       "      display:flex;\n",
       "      gap: 12px;\n",
       "    }\n",
       "\n",
       "    .colab-df-convert {\n",
       "      background-color: #E8F0FE;\n",
       "      border: none;\n",
       "      border-radius: 50%;\n",
       "      cursor: pointer;\n",
       "      display: none;\n",
       "      fill: #1967D2;\n",
       "      height: 32px;\n",
       "      padding: 0 0 0 0;\n",
       "      width: 32px;\n",
       "    }\n",
       "\n",
       "    .colab-df-convert:hover {\n",
       "      background-color: #E2EBFA;\n",
       "      box-shadow: 0px 1px 2px rgba(60, 64, 67, 0.3), 0px 1px 3px 1px rgba(60, 64, 67, 0.15);\n",
       "      fill: #174EA6;\n",
       "    }\n",
       "\n",
       "    .colab-df-buttons div {\n",
       "      margin-bottom: 4px;\n",
       "    }\n",
       "\n",
       "    [theme=dark] .colab-df-convert {\n",
       "      background-color: #3B4455;\n",
       "      fill: #D2E3FC;\n",
       "    }\n",
       "\n",
       "    [theme=dark] .colab-df-convert:hover {\n",
       "      background-color: #434B5C;\n",
       "      box-shadow: 0px 1px 3px 1px rgba(0, 0, 0, 0.15);\n",
       "      filter: drop-shadow(0px 1px 2px rgba(0, 0, 0, 0.3));\n",
       "      fill: #FFFFFF;\n",
       "    }\n",
       "  </style>\n",
       "\n",
       "    <script>\n",
       "      const buttonEl =\n",
       "        document.querySelector('#df-50de006b-e245-4029-af5d-396bd32e326d button.colab-df-convert');\n",
       "      buttonEl.style.display =\n",
       "        google.colab.kernel.accessAllowed ? 'block' : 'none';\n",
       "\n",
       "      async function convertToInteractive(key) {\n",
       "        const element = document.querySelector('#df-50de006b-e245-4029-af5d-396bd32e326d');\n",
       "        const dataTable =\n",
       "          await google.colab.kernel.invokeFunction('convertToInteractive',\n",
       "                                                    [key], {});\n",
       "        if (!dataTable) return;\n",
       "\n",
       "        const docLinkHtml = 'Like what you see? Visit the ' +\n",
       "          '<a target=\"_blank\" href=https://colab.research.google.com/notebooks/data_table.ipynb>data table notebook</a>'\n",
       "          + ' to learn more about interactive tables.';\n",
       "        element.innerHTML = '';\n",
       "        dataTable['output_type'] = 'display_data';\n",
       "        await google.colab.output.renderOutput(dataTable, element);\n",
       "        const docLink = document.createElement('div');\n",
       "        docLink.innerHTML = docLinkHtml;\n",
       "        element.appendChild(docLink);\n",
       "      }\n",
       "    </script>\n",
       "  </div>\n",
       "\n",
       "\n",
       "<div id=\"df-b5061731-5f15-4363-92f1-beddddcbc2ca\">\n",
       "  <button class=\"colab-df-quickchart\" onclick=\"quickchart('df-b5061731-5f15-4363-92f1-beddddcbc2ca')\"\n",
       "            title=\"Suggest charts.\"\n",
       "            style=\"display:none;\">\n",
       "\n",
       "<svg xmlns=\"http://www.w3.org/2000/svg\" height=\"24px\"viewBox=\"0 0 24 24\"\n",
       "     width=\"24px\">\n",
       "    <g>\n",
       "        <path d=\"M19 3H5c-1.1 0-2 .9-2 2v14c0 1.1.9 2 2 2h14c1.1 0 2-.9 2-2V5c0-1.1-.9-2-2-2zM9 17H7v-7h2v7zm4 0h-2V7h2v10zm4 0h-2v-4h2v4z\"/>\n",
       "    </g>\n",
       "</svg>\n",
       "  </button>\n",
       "\n",
       "<style>\n",
       "  .colab-df-quickchart {\n",
       "      --bg-color: #E8F0FE;\n",
       "      --fill-color: #1967D2;\n",
       "      --hover-bg-color: #E2EBFA;\n",
       "      --hover-fill-color: #174EA6;\n",
       "      --disabled-fill-color: #AAA;\n",
       "      --disabled-bg-color: #DDD;\n",
       "  }\n",
       "\n",
       "  [theme=dark] .colab-df-quickchart {\n",
       "      --bg-color: #3B4455;\n",
       "      --fill-color: #D2E3FC;\n",
       "      --hover-bg-color: #434B5C;\n",
       "      --hover-fill-color: #FFFFFF;\n",
       "      --disabled-bg-color: #3B4455;\n",
       "      --disabled-fill-color: #666;\n",
       "  }\n",
       "\n",
       "  .colab-df-quickchart {\n",
       "    background-color: var(--bg-color);\n",
       "    border: none;\n",
       "    border-radius: 50%;\n",
       "    cursor: pointer;\n",
       "    display: none;\n",
       "    fill: var(--fill-color);\n",
       "    height: 32px;\n",
       "    padding: 0;\n",
       "    width: 32px;\n",
       "  }\n",
       "\n",
       "  .colab-df-quickchart:hover {\n",
       "    background-color: var(--hover-bg-color);\n",
       "    box-shadow: 0 1px 2px rgba(60, 64, 67, 0.3), 0 1px 3px 1px rgba(60, 64, 67, 0.15);\n",
       "    fill: var(--button-hover-fill-color);\n",
       "  }\n",
       "\n",
       "  .colab-df-quickchart-complete:disabled,\n",
       "  .colab-df-quickchart-complete:disabled:hover {\n",
       "    background-color: var(--disabled-bg-color);\n",
       "    fill: var(--disabled-fill-color);\n",
       "    box-shadow: none;\n",
       "  }\n",
       "\n",
       "  .colab-df-spinner {\n",
       "    border: 2px solid var(--fill-color);\n",
       "    border-color: transparent;\n",
       "    border-bottom-color: var(--fill-color);\n",
       "    animation:\n",
       "      spin 1s steps(1) infinite;\n",
       "  }\n",
       "\n",
       "  @keyframes spin {\n",
       "    0% {\n",
       "      border-color: transparent;\n",
       "      border-bottom-color: var(--fill-color);\n",
       "      border-left-color: var(--fill-color);\n",
       "    }\n",
       "    20% {\n",
       "      border-color: transparent;\n",
       "      border-left-color: var(--fill-color);\n",
       "      border-top-color: var(--fill-color);\n",
       "    }\n",
       "    30% {\n",
       "      border-color: transparent;\n",
       "      border-left-color: var(--fill-color);\n",
       "      border-top-color: var(--fill-color);\n",
       "      border-right-color: var(--fill-color);\n",
       "    }\n",
       "    40% {\n",
       "      border-color: transparent;\n",
       "      border-right-color: var(--fill-color);\n",
       "      border-top-color: var(--fill-color);\n",
       "    }\n",
       "    60% {\n",
       "      border-color: transparent;\n",
       "      border-right-color: var(--fill-color);\n",
       "    }\n",
       "    80% {\n",
       "      border-color: transparent;\n",
       "      border-right-color: var(--fill-color);\n",
       "      border-bottom-color: var(--fill-color);\n",
       "    }\n",
       "    90% {\n",
       "      border-color: transparent;\n",
       "      border-bottom-color: var(--fill-color);\n",
       "    }\n",
       "  }\n",
       "</style>\n",
       "\n",
       "  <script>\n",
       "    async function quickchart(key) {\n",
       "      const quickchartButtonEl =\n",
       "        document.querySelector('#' + key + ' button');\n",
       "      quickchartButtonEl.disabled = true;  // To prevent multiple clicks.\n",
       "      quickchartButtonEl.classList.add('colab-df-spinner');\n",
       "      try {\n",
       "        const charts = await google.colab.kernel.invokeFunction(\n",
       "            'suggestCharts', [key], {});\n",
       "      } catch (error) {\n",
       "        console.error('Error during call to suggestCharts:', error);\n",
       "      }\n",
       "      quickchartButtonEl.classList.remove('colab-df-spinner');\n",
       "      quickchartButtonEl.classList.add('colab-df-quickchart-complete');\n",
       "    }\n",
       "    (() => {\n",
       "      let quickchartButtonEl =\n",
       "        document.querySelector('#df-b5061731-5f15-4363-92f1-beddddcbc2ca button');\n",
       "      quickchartButtonEl.style.display =\n",
       "        google.colab.kernel.accessAllowed ? 'block' : 'none';\n",
       "    })();\n",
       "  </script>\n",
       "</div>\n",
       "    </div>\n",
       "  </div>\n"
      ]
     },
     "metadata": {},
     "execution_count": 4
    }
   ],
   "source": [
    "pd.DataFrame(X.toarray()).head()"
   ]
  },
  {
   "cell_type": "markdown",
   "metadata": {
    "id": "vnPEecMj4k8o"
   },
   "source": [
    "## Feature Engineering / EDA <a id = \"2\" text goes here></a>"
   ]
  },
  {
   "cell_type": "markdown",
   "metadata": {
    "id": "xwm7vHXl4k8o"
   },
   "source": [
    "### Imbalanced Dataset? / Spam- not spam ratio <a id = \"21\" text goes here></a>\n"
   ]
  },
  {
   "cell_type": "code",
   "execution_count": null,
   "metadata": {
    "colab": {
     "base_uri": "https://localhost:8080/",
     "height": 551
    },
    "id": "NhXPGDWD4k8p",
    "outputId": "e5ed8910-e86e-401e-ef62-5a923fa91e9c"
   },
   "outputs": [
    {
     "output_type": "stream",
     "name": "stdout",
     "text": [
      "There are 8030 illegitimate and 1970 legitimate emails in the given dataset\n",
      "Spam percentage     :  19.7\n",
      "Not Spam percentage :  80.30000000000001\n",
      "<class 'numpy.ndarray'>\n",
      "(10000, 1)\n"
     ]
    },
    {
     "output_type": "execute_result",
     "data": {
      "text/plain": [
       "Text(0, 0.5, 'Count')"
      ]
     },
     "metadata": {},
     "execution_count": 5
    },
    {
     "output_type": "display_data",
     "data": {
      "text/plain": [
       "<Figure size 640x480 with 1 Axes>"
      ],
      "image/png": "[encoded data removed]"
     },
     "metadata": {}
    }
   ],
   "source": [
    "print(\"There are\",np.count_nonzero(y==1),\"illegitimate and\", np.count_nonzero(y==-1),\"legitimate emails in the given dataset\")\n",
    "\n",
    "print(\"Spam percentage     : \",(np.count_nonzero(y==-1) / y.shape[0]) * 100)\n",
    "print(\"Not Spam percentage : \",(np.count_nonzero(y==1) / y.shape[0]) * 100)\n",
    "\n",
    "print(type(y))\n",
    "print(np.shape(y))\n",
    "\n",
    "c = sns.countplot(x = y.ravel())\n",
    "c.set_xlabel('Illegitimate and Legitimate')\n",
    "c.set_ylabel('Count')"
   ]
  },
  {
   "cell_type": "code",
   "execution_count": null,
   "metadata": {
    "colab": {
     "base_uri": "https://localhost:8080/",
     "height": 447
    },
    "id": "6uPBls_M4k8p",
    "outputId": "8dbd7b71-40cd-444c-d34b-506ad5d644ec"
   },
   "outputs": [
    {
     "output_type": "execute_result",
     "data": {
      "text/plain": [
       "<Axes: ylabel='count'>"
      ]
     },
     "metadata": {},
     "execution_count": 6
    },
    {
     "output_type": "display_data",
     "data": {
      "text/plain": [
       "<Figure size 640x480 with 1 Axes>"
      ],
      "image/png": "[encoded data removed]"
     },
     "metadata": {}
    }
   ],
   "source": [
    "# To handle imbalanced dataset(80% and 20%)\n",
    "from imblearn.over_sampling import RandomOverSampler\n",
    "\n",
    "ros =  RandomOverSampler(random_state= 5) #, ratio=0.5\n",
    "X_balanced, y_balanced = ros.fit_resample(X, y)\n",
    "\n",
    "sns.countplot(x = y_balanced.ravel())"
   ]
  },
  {
   "cell_type": "markdown",
   "metadata": {
    "id": "JdY8byZo4k8p"
   },
   "source": [
    "## Prediction <a id = \"3\" text goes here></a>"
   ]
  },
  {
   "cell_type": "markdown",
   "metadata": {
    "id": "Q51gotf04k8p"
   },
   "source": [
    "### Split into training and testing set <a id = \"31\" text goes here></a>"
   ]
  },
  {
   "cell_type": "code",
   "execution_count": null,
   "metadata": {
    "id": "orjnggna4k8p"
   },
   "outputs": [],
   "source": [
    "from sklearn.model_selection import train_test_split\n",
    "\n",
    "X_train, X_test, y_train, y_test = train_test_split(X, y, test_size = 0.20, random_state = 5)\n",
    "\n",
    "X_bal_train, X_bal_test, y_bal_train, y_bal_test = train_test_split(X_balanced, y_balanced, test_size = 0.20, random_state = 5)"
   ]
  },
  {
   "cell_type": "markdown",
   "metadata": {
    "id": "yjsDpADm4k8q"
   },
   "source": [
    "### Build the model <a id = \"32\" text goes here></a>\n"
   ]
  },
  {
   "cell_type": "markdown",
   "metadata": {
    "id": "LRIIW4114k8q"
   },
   "source": [
    "#### Logistic Regression(Linear Classification)<a id = \"321\" text goes here></a>\n"
   ]
  },
  {
   "cell_type": "code",
   "execution_count": null,
   "metadata": {
    "colab": {
     "base_uri": "https://localhost:8080/",
     "height": 642
    },
    "id": "0rlrRl9M4k8q",
    "outputId": "10effb0a-f550-4d36-e65f-10c5fd51671a"
   },
   "outputs": [
    {
     "output_type": "stream",
     "name": "stdout",
     "text": [
      "Accuracy of the model is :  99.65 %\n",
      "\n",
      "\n",
      "Confusion Matrix : \n",
      " [[ 368    5]\n",
      " [   2 1625]]\n",
      "\n",
      " True Positive Rate :  0.9987707437000615\n",
      "\n",
      " False Positive Rate :  0.013404825737265416\n"
     ]
    },
    {
     "output_type": "display_data",
     "data": {
      "text/plain": [
       "<Figure size 640x480 with 1 Axes>"
      ],
      "image/png": "[encoded data removed]"
     },
     "metadata": {}
    }
   ],
   "source": [
    "# 1. Train the model\n",
    "from sklearn.linear_model import LogisticRegression\n",
    "\n",
    "model = LogisticRegression()\n",
    "model.fit(X_train,y_train)\n",
    "\n",
    "\n",
    "# 2. Prediction\n",
    "y_pred = model.predict(X_test)\n",
    "\n",
    "\n",
    "# 3. Evaluate\n",
    "tn, fp, fn, tp = confusion_matrix(y_test, y_pred).ravel()\n",
    "false_positive_rate = fp / (fp + tn)\n",
    "true_positive_rate = tp / (tp + fn)\n",
    "\n",
    "print(\"Accuracy of the model is : \", round(accuracy_score(y_test, y_pred)*100,2),\"%\\n\\n\")\n",
    "print(\"Confusion Matrix : \\n\", confusion_matrix(y_test, y_pred))\n",
    "print(\"\\n True Positive Rate : \",true_positive_rate )\n",
    "print(\"\\n False Positive Rate : \",false_positive_rate )\n",
    "\n",
    "fpr, tpr, threshold = roc_curve(y_test, y_pred)\n",
    "roc_auc = auc(fpr, tpr)\n",
    "\n",
    "plt.title('Receiver Operating Characteristic')\n",
    "plt.plot(fpr, tpr, 'b', label = 'AUC = %0.2f' % roc_auc)\n",
    "plt.legend(loc = 'lower right')\n",
    "plt.plot([0, 1], [0, 1],'r--')\n",
    "plt.xlim([0, 1])\n",
    "plt.ylim([0, 1])\n",
    "plt.ylabel('True Positive Rate')\n",
    "plt.xlabel('False Positive Rate')\n",
    "plt.show()"
   ]
  },
  {
   "cell_type": "code",
   "execution_count": null,
   "metadata": {
    "colab": {
     "base_uri": "https://localhost:8080/",
     "height": 642
    },
    "id": "nx_2y-Vw4k8q",
    "outputId": "33b70738-5097-46ad-9563-900de80f200d"
   },
   "outputs": [
    {
     "output_type": "stream",
     "name": "stdout",
     "text": [
      "Accuracy of the model is :  99.88 %\n",
      "\n",
      "\n",
      "Confusion Matrix : \n",
      " [[1613    0]\n",
      " [   4 1595]]\n",
      "\n",
      " True Positive Rate :  0.9974984365228268\n",
      "\n",
      " False Positive Rate :  0.0\n"
     ]
    },
    {
     "output_type": "display_data",
     "data": {
      "text/plain": [
       "<Figure size 640x480 with 1 Axes>"
      ],
      "image/png": "[encoded data removed]"
     },
     "metadata": {}
    }
   ],
   "source": [
    "# Now consider the balanced dataset\n",
    "\n",
    "# 1. Model building and Training\n",
    "model = LogisticRegression()\n",
    "model.fit(X_bal_train,y_bal_train)\n",
    "\n",
    "# 2. Prediction\n",
    "y_pred = model.predict(X_bal_test)\n",
    "\n",
    "# 3. Evaluate\n",
    "tn, fp, fn, tp = confusion_matrix(y_bal_test, y_pred).ravel()\n",
    "false_positive_rate = fp / (fp + tn)\n",
    "true_positive_rate = tp / (tp + fn)\n",
    "\n",
    "print(\"Accuracy of the model is : \", round(accuracy_score(y_bal_test, y_pred)*100,2),\"%\\n\\n\")\n",
    "print(\"Confusion Matrix : \\n\", confusion_matrix(y_bal_test, y_pred))\n",
    "print(\"\\n True Positive Rate : \",true_positive_rate )\n",
    "print(\"\\n False Positive Rate : \",false_positive_rate )\n",
    "\n",
    "fpr, tpr, threshold = roc_curve(y_bal_test, y_pred)\n",
    "roc_auc = auc(fpr, tpr)\n",
    "\n",
    "plt.title('Receiver Operating Characteristic')\n",
    "plt.plot(fpr, tpr, 'b', label = 'AUC = %0.2f' % roc_auc)\n",
    "plt.legend(loc = 'lower right')\n",
    "plt.plot([0, 1], [0, 1],'r--')\n",
    "plt.xlim([0, 1])\n",
    "plt.ylim([0, 1])\n",
    "plt.ylabel('True Positive Rate')\n",
    "plt.xlabel('False Positive Rate')\n",
    "plt.show()"
   ]
  },
  {
   "cell_type": "code",
   "execution_count": null,
   "metadata": {
    "colab": {
     "base_uri": "https://localhost:8080/"
    },
    "id": "txuM03qZ4k8r",
    "outputId": "1eba7ede-3e85-46ca-a19a-31cbb1c888ad"
   },
   "outputs": [
    {
     "output_type": "stream",
     "name": "stdout",
     "text": [
      "\n",
      "---- Cross validation on actual dataset---\n",
      " \n",
      "[0.986 0.994 0.993 0.996 0.998 0.997 0.994 0.999 0.992 0.998]\n",
      "\n",
      " Average : 99.47\n",
      "\n",
      "---- Cross validation on balanced dataset---\n",
      " \n",
      "[0.99252802 0.99564134 0.998132   0.99875467 0.99937733 1.\n",
      " 1.         1.         0.99750934 0.998132  ]\n",
      "\n",
      " Average : 99.8\n"
     ]
    }
   ],
   "source": [
    "# Cross validation on actual dataset\n",
    "from sklearn.model_selection import cross_val_score\n",
    "\n",
    "print(\"\\n---- Cross validation on actual dataset---\\n \")\n",
    "score = cross_val_score(model, X, y, cv = 10)\n",
    "print(score)\n",
    "print(\"\\n Average :\",round(score.mean() *100, 2))\n",
    "\n",
    "# Cross validation on balanced dataset\n",
    "print(\"\\n---- Cross validation on balanced dataset---\\n \")\n",
    "score = cross_val_score(model, X_balanced, y_balanced, cv = 10)\n",
    "print(score)\n",
    "print(\"\\n Average :\",round(score.mean() *100, 2))"
   ]
  },
  {
   "cell_type": "markdown",
   "metadata": {
    "id": "W4da67Th4k8s"
   },
   "source": [
    "#### Random Forest<a id = \"323\" text goes here></a>\n"
   ]
  },
  {
   "cell_type": "code",
   "execution_count": null,
   "metadata": {
    "colab": {
     "base_uri": "https://localhost:8080/",
     "height": 642
    },
    "id": "grQh0PlE4k8s",
    "outputId": "75a4d081-b873-4f13-a171-31c5a21c024f"
   },
   "outputs": [
    {
     "output_type": "stream",
     "name": "stdout",
     "text": [
      "Accuracy of the model is :  99.65 %\n",
      "\n",
      "\n",
      "Confusion Matrix : \n",
      " [[ 368    5]\n",
      " [   2 1625]]\n",
      "\n",
      " True Positive Rate :  0.9987707437000615\n",
      "\n",
      " False Positive Rate :  0.013404825737265416\n"
     ]
    },
    {
     "output_type": "display_data",
     "data": {
      "text/plain": [
       "<Figure size 640x480 with 1 Axes>"
      ],
      "image/png": "[encoded data removed]"
     },
     "metadata": {}
    }
   ],
   "source": [
    "# 1. Model build and training\n",
    "from sklearn.ensemble import RandomForestClassifier\n",
    "\n",
    "model =  RandomForestClassifier()\n",
    "model.fit(X_train,y_train)\n",
    "\n",
    "# 2. predict\n",
    "y_pred = model.predict(X_test)\n",
    "\n",
    "# 3. Evaluate\n",
    "tn, fp, fn, tp = confusion_matrix(y_test, y_pred).ravel()\n",
    "false_positive_rate = fp / (fp + tn)\n",
    "true_positive_rate = tp / (tp + fn)\n",
    "\n",
    "print(\"Accuracy of the model is : \", round(accuracy_score(y_test, y_pred)*100,2),\"%\\n\\n\")\n",
    "print(\"Confusion Matrix : \\n\", confusion_matrix(y_test, y_pred))\n",
    "print(\"\\n True Positive Rate : \",true_positive_rate )\n",
    "print(\"\\n False Positive Rate : \",false_positive_rate )\n",
    "\n",
    "fpr, tpr, threshold = roc_curve(y_test, y_pred)\n",
    "roc_auc = auc(fpr, tpr)\n",
    "\n",
    "plt.title('Receiver Operating Characteristic')\n",
    "plt.plot(fpr, tpr, 'b', label = 'AUC = %0.2f' % roc_auc)\n",
    "plt.legend(loc = 'lower right')\n",
    "plt.plot([0, 1], [0, 1],'r--')\n",
    "plt.xlim([0, 1])\n",
    "plt.ylim([0, 1])\n",
    "plt.ylabel('True Positive Rate')\n",
    "plt.xlabel('False Positive Rate')\n",
    "plt.show()"
   ]
  },
  {
   "cell_type": "code",
   "execution_count": null,
   "metadata": {
    "colab": {
     "base_uri": "https://localhost:8080/",
     "height": 493
    },
    "id": "iSl99g3c4k8s",
    "outputId": "1d48c76d-3b7a-4dbf-fcdc-748324848b92"
   },
   "outputs": [
    {
     "output_type": "stream",
     "name": "stdout",
     "text": [
      "Fitting 5 folds for each of 5 candidates, totalling 25 fits\n",
      "[CV 1/5] END ...criterion=gini, n_estimators=50;, score=1.000 total time=   2.2s\n",
      "[CV 2/5] END ...criterion=gini, n_estimators=50;, score=1.000 total time=   2.1s\n",
      "[CV 3/5] END ...criterion=gini, n_estimators=50;, score=0.998 total time=   2.2s\n",
      "[CV 4/5] END ...criterion=gini, n_estimators=50;, score=1.000 total time=   2.6s\n",
      "[CV 5/5] END ...criterion=gini, n_estimators=50;, score=0.999 total time=   2.4s\n",
      "[CV 1/5] END criterion=entropy, n_estimators=50;, score=1.000 total time=   2.1s\n",
      "[CV 2/5] END criterion=entropy, n_estimators=50;, score=1.000 total time=   1.9s\n",
      "[CV 3/5] END criterion=entropy, n_estimators=50;, score=1.000 total time=   2.1s\n",
      "[CV 4/5] END criterion=entropy, n_estimators=50;, score=1.000 total time=   2.3s\n",
      "[CV 5/5] END criterion=entropy, n_estimators=50;, score=0.999 total time=   2.2s\n",
      "[CV 1/5] END .criterion=entropy, n_estimators=5;, score=0.998 total time=   0.3s\n",
      "[CV 2/5] END .criterion=entropy, n_estimators=5;, score=0.998 total time=   0.2s\n",
      "[CV 3/5] END .criterion=entropy, n_estimators=5;, score=0.995 total time=   0.2s\n",
      "[CV 4/5] END .criterion=entropy, n_estimators=5;, score=0.997 total time=   0.3s\n",
      "[CV 5/5] END .criterion=entropy, n_estimators=5;, score=0.997 total time=   0.3s\n",
      "[CV 1/5] END criterion=entropy, n_estimators=10;, score=0.999 total time=   0.5s\n",
      "[CV 2/5] END criterion=entropy, n_estimators=10;, score=0.999 total time=   0.5s\n",
      "[CV 3/5] END criterion=entropy, n_estimators=10;, score=0.999 total time=   0.5s\n",
      "[CV 4/5] END criterion=entropy, n_estimators=10;, score=0.999 total time=   0.5s\n",
      "[CV 5/5] END criterion=entropy, n_estimators=10;, score=0.997 total time=   0.5s\n",
      "[CV 1/5] END criterion=entropy, n_estimators=20;, score=0.999 total time=   0.9s\n",
      "[CV 2/5] END criterion=entropy, n_estimators=20;, score=0.999 total time=   0.8s\n",
      "[CV 3/5] END criterion=entropy, n_estimators=20;, score=0.999 total time=   0.9s\n",
      "[CV 4/5] END criterion=entropy, n_estimators=20;, score=1.000 total time=   1.0s\n",
      "[CV 5/5] END criterion=entropy, n_estimators=20;, score=0.999 total time=   0.9s\n"
     ]
    },
    {
     "output_type": "execute_result",
     "data": {
      "text/plain": [
       "RandomForestClassifier(criterion='entropy', n_estimators=50)"
      ],
      "text/html": [
       "<style>#sk-container-id-1 {color: black;background-color: white;}#sk-container-id-1 pre{padding: 0;}#sk-container-id-1 div.sk-toggleable {background-color: white;}#sk-container-id-1 label.sk-toggleable__label {cursor: pointer;display: block;width: 100%;margin-bottom: 0;padding: 0.3em;box-sizing: border-box;text-align: center;}#sk-container-id-1 label.sk-toggleable__label-arrow:before {content: \"▸\";float: left;margin-right: 0.25em;color: #696969;}#sk-container-id-1 label.sk-toggleable__label-arrow:hover:before {color: black;}#sk-container-id-1 div.sk-estimator:hover label.sk-toggleable__label-arrow:before {color: black;}#sk-container-id-1 div.sk-toggleable__content {max-height: 0;max-width: 0;overflow: hidden;text-align: left;background-color: #f0f8ff;}#sk-container-id-1 div.sk-toggleable__content pre {margin: 0.2em;color: black;border-radius: 0.25em;background-color: #f0f8ff;}#sk-container-id-1 input.sk-toggleable__control:checked~div.sk-toggleable__content {max-height: 200px;max-width: 100%;overflow: auto;}#sk-container-id-1 input.sk-toggleable__control:checked~label.sk-toggleable__label-arrow:before {content: \"▾\";}#sk-container-id-1 div.sk-estimator input.sk-toggleable__control:checked~label.sk-toggleable__label {background-color: #d4ebff;}#sk-container-id-1 div.sk-label input.sk-toggleable__control:checked~label.sk-toggleable__label {background-color: #d4ebff;}#sk-container-id-1 input.sk-hidden--visually {border: 0;clip: rect(1px 1px 1px 1px);clip: rect(1px, 1px, 1px, 1px);height: 1px;margin: -1px;overflow: hidden;padding: 0;position: absolute;width: 1px;}#sk-container-id-1 div.sk-estimator {font-family: monospace;background-color: #f0f8ff;border: 1px dotted black;border-radius: 0.25em;box-sizing: border-box;margin-bottom: 0.5em;}#sk-container-id-1 div.sk-estimator:hover {background-color: #d4ebff;}#sk-container-id-1 div.sk-parallel-item::after {content: \"\";width: 100%;border-bottom: 1px solid gray;flex-grow: 1;}#sk-container-id-1 div.sk-label:hover label.sk-toggleable__label {background-color: #d4ebff;}#sk-container-id-1 div.sk-serial::before {content: \"\";position: absolute;border-left: 1px solid gray;box-sizing: border-box;top: 0;bottom: 0;left: 50%;z-index: 0;}#sk-container-id-1 div.sk-serial {display: flex;flex-direction: column;align-items: center;background-color: white;padding-right: 0.2em;padding-left: 0.2em;position: relative;}#sk-container-id-1 div.sk-item {position: relative;z-index: 1;}#sk-container-id-1 div.sk-parallel {display: flex;align-items: stretch;justify-content: center;background-color: white;position: relative;}#sk-container-id-1 div.sk-item::before, #sk-container-id-1 div.sk-parallel-item::before {content: \"\";position: absolute;border-left: 1px solid gray;box-sizing: border-box;top: 0;bottom: 0;left: 50%;z-index: -1;}#sk-container-id-1 div.sk-parallel-item {display: flex;flex-direction: column;z-index: 1;position: relative;background-color: white;}#sk-container-id-1 div.sk-parallel-item:first-child::after {align-self: flex-end;width: 50%;}#sk-container-id-1 div.sk-parallel-item:last-child::after {align-self: flex-start;width: 50%;}#sk-container-id-1 div.sk-parallel-item:only-child::after {width: 0;}#sk-container-id-1 div.sk-dashed-wrapped {border: 1px dashed gray;margin: 0 0.4em 0.5em 0.4em;box-sizing: border-box;padding-bottom: 0.4em;background-color: white;}#sk-container-id-1 div.sk-label label {font-family: monospace;font-weight: bold;display: inline-block;line-height: 1.2em;}#sk-container-id-1 div.sk-label-container {text-align: center;}#sk-container-id-1 div.sk-container {/* jupyter's `normalize.less` sets `[hidden] { display: none; }` but bootstrap.min.css set `[hidden] { display: none !important; }` so we also need the `!important` here to be able to override the default hidden behavior on the sphinx rendered scikit-learn.org. See: https://github.com/scikit-learn/scikit-learn/issues/21755 */display: inline-block !important;position: relative;}#sk-container-id-1 div.sk-text-repr-fallback {display: none;}</style><div id=\"sk-container-id-1\" class=\"sk-top-container\"><div class=\"sk-text-repr-fallback\"><pre>RandomForestClassifier(criterion=&#x27;entropy&#x27;, n_estimators=50)</pre><b>In a Jupyter environment, please rerun this cell to show the HTML representation or trust the notebook. <br />On GitHub, the HTML representation is unable to render, please try loading this page with nbviewer.org.</b></div><div class=\"sk-container\" hidden><div class=\"sk-item\"><div class=\"sk-estimator sk-toggleable\"><input class=\"sk-toggleable__control sk-hidden--visually\" id=\"sk-estimator-id-1\" type=\"checkbox\" checked><label for=\"sk-estimator-id-1\" class=\"sk-toggleable__label sk-toggleable__label-arrow\">RandomForestClassifier</label><div class=\"sk-toggleable__content\"><pre>RandomForestClassifier(criterion=&#x27;entropy&#x27;, n_estimators=50)</pre></div></div></div></div></div>"
      ]
     },
     "metadata": {},
     "execution_count": 17
    }
   ],
   "source": [
    "params = { \"n_estimators\" : [20, 10, 5, 50] ,\n",
    "            \"criterion\" : [\"entropy\", \"gini\"] }\n",
    "\n",
    "# Hyper parameter tuning\n",
    "from sklearn.model_selection import RandomizedSearchCV\n",
    "\n",
    "model = RandomForestClassifier()\n",
    "random_search = RandomizedSearchCV(model, param_distributions = params, n_iter = 5,  scoring = 'roc_auc',  n_jobs = None, verbose = 3, cv =5 )\n",
    "random_search.fit(X,y)\n",
    "\n",
    "random_search.best_estimator_"
   ]
  },
  {
   "cell_type": "code",
   "execution_count": null,
   "metadata": {
    "colab": {
     "base_uri": "https://localhost:8080/",
     "height": 642
    },
    "id": "2CAOXcuv4k8t",
    "outputId": "212e7571-4d61-4a9f-83b5-16051385ef40"
   },
   "outputs": [
    {
     "output_type": "stream",
     "name": "stdout",
     "text": [
      "Accuracy of the model is :  99.65 %\n",
      "\n",
      "\n",
      "Confusion Matrix : \n",
      " [[ 368    5]\n",
      " [   2 1625]]\n",
      "\n",
      " True Positive Rate :  0.9987707437000615\n",
      "\n",
      " False Positive Rate :  0.013404825737265416\n"
     ]
    },
    {
     "output_type": "display_data",
     "data": {
      "text/plain": [
       "<Figure size 640x480 with 1 Axes>"
      ],
      "image/png": "[encoded data removed]"
     },
     "metadata": {}
    }
   ],
   "source": [
    "# New model with tuned hyperparameters and CV\n",
    "from sklearn.ensemble import RandomForestClassifier\n",
    "\n",
    "# 1. Model build and train\n",
    "model =  RandomForestClassifier(n_estimators = 50, criterion = \"entropy\")\n",
    "model.fit(X_train,y_train)\n",
    "\n",
    "# 2. prediction\n",
    "y_pred = model.predict(X_test)\n",
    "\n",
    "# 3. Evaluate\n",
    "tn, fp, fn, tp = confusion_matrix(y_test, y_pred).ravel()\n",
    "false_positive_rate = fp / (fp + tn)\n",
    "true_positive_rate = tp / (tp + fn)\n",
    "\n",
    "print(\"Accuracy of the model is : \", round(accuracy_score(y_test, y_pred)*100,2),\"%\\n\\n\")\n",
    "print(\"Confusion Matrix : \\n\", confusion_matrix(y_test, y_pred))\n",
    "print(\"\\n True Positive Rate : \",true_positive_rate )\n",
    "print(\"\\n False Positive Rate : \",false_positive_rate )\n",
    "\n",
    "fpr, tpr, threshold = roc_curve(y_test, y_pred)\n",
    "roc_auc = auc(fpr, tpr)\n",
    "\n",
    "plt.title('Receiver Operating Characteristic')\n",
    "plt.plot(fpr, tpr, 'b', label = 'AUC = %0.2f' % roc_auc)\n",
    "plt.legend(loc = 'lower right')\n",
    "plt.plot([0, 1], [0, 1],'r--')\n",
    "plt.xlim([0, 1])\n",
    "plt.ylim([0, 1])\n",
    "plt.ylabel('True Positive Rate')\n",
    "plt.xlabel('False Positive Rate')\n",
    "plt.show()"
   ]
  },
  {
   "cell_type": "markdown",
   "metadata": {
    "id": "t-hHnDTU4k8t"
   },
   "source": [
    "#### Neural Network<a id = \"325\" text goes here></a>\n"
   ]
  },
  {
   "cell_type": "code",
   "execution_count": null,
   "metadata": {
    "colab": {
     "base_uri": "https://localhost:8080/"
    },
    "id": "df9_lJ7i4k8t",
    "outputId": "fa9e5b12-b0c4-44d7-dd73-bf0411c14555"
   },
   "outputs": [
    {
     "output_type": "stream",
     "name": "stdout",
     "text": [
      "Epoch 1/10\n",
      "6/6 [==============================] - 21s 3s/step - loss: -1.4926 - accuracy: 0.5970 - val_loss: -8.7511 - val_accuracy: 0.7271\n",
      "Epoch 2/10\n",
      "6/6 [==============================] - 18s 3s/step - loss: -32.2666 - accuracy: 0.6843 - val_loss: -72.6102 - val_accuracy: 0.7362\n",
      "Epoch 3/10\n",
      "6/6 [==============================] - 17s 3s/step - loss: -191.1930 - accuracy: 0.7136 - val_loss: -350.1404 - val_accuracy: 0.6833\n",
      "Epoch 4/10\n",
      "6/6 [==============================] - 17s 3s/step - loss: -748.4270 - accuracy: 0.6582 - val_loss: -1250.7986 - val_accuracy: 0.7113\n",
      "Epoch 5/10\n",
      "6/6 [==============================] - 17s 3s/step - loss: -2523.0864 - accuracy: 0.6941 - val_loss: -3560.8262 - val_accuracy: 0.6900\n",
      "Epoch 6/10\n",
      "6/6 [==============================] - 17s 3s/step - loss: -6767.5063 - accuracy: 0.6732 - val_loss: -8979.1826 - val_accuracy: 0.7008\n",
      "Epoch 7/10\n",
      "6/6 [==============================] - 17s 3s/step - loss: -16026.9619 - accuracy: 0.7004 - val_loss: -20686.9492 - val_accuracy: 0.7071\n",
      "Epoch 8/10\n",
      "6/6 [==============================] - 17s 3s/step - loss: -36573.2891 - accuracy: 0.6836 - val_loss: -44302.0312 - val_accuracy: 0.6742\n",
      "Epoch 9/10\n",
      "6/6 [==============================] - 17s 3s/step - loss: -75520.6328 - accuracy: 0.6798 - val_loss: -89465.2500 - val_accuracy: 0.7029\n",
      "Epoch 10/10\n",
      "6/6 [==============================] - 17s 3s/step - loss: -151739.3594 - accuracy: 0.6939 - val_loss: -168306.0625 - val_accuracy: 0.6871\n",
      "dict_keys(['loss', 'accuracy', 'val_loss', 'val_accuracy'])\n",
      "63/63 [==============================] - 2s 33ms/step\n",
      "Accuracy of the model is :  68.95 %\n"
     ]
    }
   ],
   "source": [
    "# 1. Model build and train\n",
    "import keras\n",
    "from keras.models import Sequential\n",
    "from keras.layers import Dense\n",
    "from keras.layers import Dropout            # Hyper parameter\n",
    "\n",
    "# ANN initialization\n",
    "model = Sequential()\n",
    "# Add Input layer and first hidden layer\n",
    "model.add(Dense(units = 2000, activation = \"relu\", input_dim = X.shape[1]))\n",
    "model.add(Dropout(0.3))\n",
    "\n",
    "# Add second hidden layer\n",
    "model.add(Dense(units = 1000, activation = \"relu\"))\n",
    "model.add(Dropout(0.4))\n",
    "\n",
    "# Add third hidden layer\n",
    "model.add(Dense(units = 500, activation = \"relu\"))\n",
    "model.add(Dropout(0.2))\n",
    "\n",
    "# Add fourth hidden layer\n",
    "model.add(Dense(units = 200,  activation = \"relu\"))\n",
    "model.add(Dropout(0.2))\n",
    "\n",
    "# Add fifth hidden layer\n",
    "model.add(Dense(units = 100, activation = \"relu\"))\n",
    "model.add(Dropout(0.2))\n",
    "\n",
    "# Output layer\n",
    "model.add(Dense(units = 1,  activation = \"sigmoid\"))\n",
    "\n",
    "model.compile(optimizer = \"Adamax\", loss = \"binary_crossentropy\" , metrics = [\"accuracy\"])\n",
    "\n",
    "#print(type(X_train))\n",
    "#print(type(X_train.todense()))\n",
    "\n",
    "#fit ANN to training set\n",
    "model_history = model.fit(X_train.toarray(), y_train, validation_split = 0.30, batch_size = 1000, epochs = 10)\n",
    "\n",
    "print(model_history.history.keys())\n",
    "\n",
    "\n",
    "# 2. Predict\n",
    "y_pred = model.predict(X_test)\n",
    "y_pred = (y_pred > 0.5)\n",
    "\n",
    "\n",
    "# 3. Evaluate\n",
    "print(\"Accuracy of the model is : \", round(accuracy_score(y_test, y_pred)*100,2),\"%\\n\\n\")"
   ]
  },
  {
   "cell_type": "markdown",
   "metadata": {
    "id": "-RB3S4GO4k8u"
   },
   "source": [
    "#### Naive Bayes<a id = \"326\" text goes here></a>"
   ]
  },
  {
   "cell_type": "code",
   "execution_count": null,
   "metadata": {
    "id": "KBP1AFuf4k8u",
    "colab": {
     "base_uri": "https://localhost:8080/"
    },
    "outputId": "2fe38cbd-90e6-4ea9-f701-0b8d6ef40fda"
   },
   "outputs": [
    {
     "output_type": "stream",
     "name": "stdout",
     "text": [
      "Accuracy of the model is :  97.9 %\n",
      "\n",
      "\n",
      "Confusion Matrix : \n",
      " [[ 372    1]\n",
      " [  41 1586]]\n",
      "\n",
      " True Positive Rate :  0.97480024585126\n",
      "\n",
      " False Positive Rate :  0.002680965147453083\n"
     ]
    }
   ],
   "source": [
    "from sklearn.naive_bayes import MultinomialNB\n",
    "\n",
    "# 1. Model build and train\n",
    "model = MultinomialNB()           # create a model\n",
    "model.fit(X_train,y_train)        # train the model\n",
    "\n",
    "# 2. Predict\n",
    "y_pred = model.predict(X_test)    # test the model\n",
    "\n",
    "# 3. Evaluate\n",
    "tn, fp, fn, tp = confusion_matrix(y_test, y_pred).ravel()\n",
    "false_positive_rate = fp / (fp + tn)\n",
    "true_positive_rate = tp / (tp + fn)\n",
    "\n",
    "print(\"Accuracy of the model is : \", round(accuracy_score(y_test, y_pred)*100,2),\"%\\n\\n\")\n",
    "print(\"Confusion Matrix : \\n\", confusion_matrix(y_test, y_pred))\n",
    "print(\"\\n True Positive Rate : \",true_positive_rate )\n",
    "print(\"\\n False Positive Rate : \",false_positive_rate )"
   ]
  },
  {
   "cell_type": "code",
   "execution_count": null,
   "metadata": {
    "id": "41V4XADN4k8u",
    "colab": {
     "base_uri": "https://localhost:8080/",
     "height": 346
    },
    "outputId": "e7be6fc5-9dde-4a65-c889-ffc0af081437"
   },
   "outputs": [
    {
     "output_type": "stream",
     "name": "stdout",
     "text": [
      "Fitting 5 folds for each of 3 candidates, totalling 15 fits\n",
      "[CV 1/5] END ...........................alpha=0;, score=0.998 total time=   0.0s\n",
      "[CV 2/5] END ...........................alpha=0;, score=0.983 total time=   0.0s\n",
      "[CV 3/5] END ...........................alpha=0;, score=0.997 total time=   0.0s\n",
      "[CV 4/5] END ...........................alpha=0;, score=0.999 total time=   0.0s\n",
      "[CV 5/5] END ...........................alpha=0;, score=0.997 total time=   0.0s\n",
      "[CV 1/5] END .........................alpha=0.5;, score=0.994 total time=   0.0s\n",
      "[CV 2/5] END .........................alpha=0.5;, score=0.975 total time=   0.0s\n",
      "[CV 3/5] END .........................alpha=0.5;, score=0.998 total time=   0.0s\n",
      "[CV 4/5] END .........................alpha=0.5;, score=1.000 total time=   0.0s\n",
      "[CV 5/5] END .........................alpha=0.5;, score=0.994 total time=   0.0s\n",
      "[CV 1/5] END .........................alpha=1.0;, score=0.993 total time=   0.0s\n",
      "[CV 2/5] END .........................alpha=1.0;, score=0.975 total time=   0.0s\n",
      "[CV 3/5] END .........................alpha=1.0;, score=0.996 total time=   0.0s\n",
      "[CV 4/5] END .........................alpha=1.0;, score=0.999 total time=   0.0s\n",
      "[CV 5/5] END .........................alpha=1.0;, score=0.993 total time=   0.0s\n"
     ]
    },
    {
     "output_type": "execute_result",
     "data": {
      "text/plain": [
       "MultinomialNB(alpha=0)"
      ],
      "text/html": [
       "<style>#sk-container-id-3 {color: black;background-color: white;}#sk-container-id-3 pre{padding: 0;}#sk-container-id-3 div.sk-toggleable {background-color: white;}#sk-container-id-3 label.sk-toggleable__label {cursor: pointer;display: block;width: 100%;margin-bottom: 0;padding: 0.3em;box-sizing: border-box;text-align: center;}#sk-container-id-3 label.sk-toggleable__label-arrow:before {content: \"▸\";float: left;margin-right: 0.25em;color: #696969;}#sk-container-id-3 label.sk-toggleable__label-arrow:hover:before {color: black;}#sk-container-id-3 div.sk-estimator:hover label.sk-toggleable__label-arrow:before {color: black;}#sk-container-id-3 div.sk-toggleable__content {max-height: 0;max-width: 0;overflow: hidden;text-align: left;background-color: #f0f8ff;}#sk-container-id-3 div.sk-toggleable__content pre {margin: 0.2em;color: black;border-radius: 0.25em;background-color: #f0f8ff;}#sk-container-id-3 input.sk-toggleable__control:checked~div.sk-toggleable__content {max-height: 200px;max-width: 100%;overflow: auto;}#sk-container-id-3 input.sk-toggleable__control:checked~label.sk-toggleable__label-arrow:before {content: \"▾\";}#sk-container-id-3 div.sk-estimator input.sk-toggleable__control:checked~label.sk-toggleable__label {background-color: #d4ebff;}#sk-container-id-3 div.sk-label input.sk-toggleable__control:checked~label.sk-toggleable__label {background-color: #d4ebff;}#sk-container-id-3 input.sk-hidden--visually {border: 0;clip: rect(1px 1px 1px 1px);clip: rect(1px, 1px, 1px, 1px);height: 1px;margin: -1px;overflow: hidden;padding: 0;position: absolute;width: 1px;}#sk-container-id-3 div.sk-estimator {font-family: monospace;background-color: #f0f8ff;border: 1px dotted black;border-radius: 0.25em;box-sizing: border-box;margin-bottom: 0.5em;}#sk-container-id-3 div.sk-estimator:hover {background-color: #d4ebff;}#sk-container-id-3 div.sk-parallel-item::after {content: \"\";width: 100%;border-bottom: 1px solid gray;flex-grow: 1;}#sk-container-id-3 div.sk-label:hover label.sk-toggleable__label {background-color: #d4ebff;}#sk-container-id-3 div.sk-serial::before {content: \"\";position: absolute;border-left: 1px solid gray;box-sizing: border-box;top: 0;bottom: 0;left: 50%;z-index: 0;}#sk-container-id-3 div.sk-serial {display: flex;flex-direction: column;align-items: center;background-color: white;padding-right: 0.2em;padding-left: 0.2em;position: relative;}#sk-container-id-3 div.sk-item {position: relative;z-index: 1;}#sk-container-id-3 div.sk-parallel {display: flex;align-items: stretch;justify-content: center;background-color: white;position: relative;}#sk-container-id-3 div.sk-item::before, #sk-container-id-3 div.sk-parallel-item::before {content: \"\";position: absolute;border-left: 1px solid gray;box-sizing: border-box;top: 0;bottom: 0;left: 50%;z-index: -1;}#sk-container-id-3 div.sk-parallel-item {display: flex;flex-direction: column;z-index: 1;position: relative;background-color: white;}#sk-container-id-3 div.sk-parallel-item:first-child::after {align-self: flex-end;width: 50%;}#sk-container-id-3 div.sk-parallel-item:last-child::after {align-self: flex-start;width: 50%;}#sk-container-id-3 div.sk-parallel-item:only-child::after {width: 0;}#sk-container-id-3 div.sk-dashed-wrapped {border: 1px dashed gray;margin: 0 0.4em 0.5em 0.4em;box-sizing: border-box;padding-bottom: 0.4em;background-color: white;}#sk-container-id-3 div.sk-label label {font-family: monospace;font-weight: bold;display: inline-block;line-height: 1.2em;}#sk-container-id-3 div.sk-label-container {text-align: center;}#sk-container-id-3 div.sk-container {/* jupyter's `normalize.less` sets `[hidden] { display: none; }` but bootstrap.min.css set `[hidden] { display: none !important; }` so we also need the `!important` here to be able to override the default hidden behavior on the sphinx rendered scikit-learn.org. See: https://github.com/scikit-learn/scikit-learn/issues/21755 */display: inline-block !important;position: relative;}#sk-container-id-3 div.sk-text-repr-fallback {display: none;}</style><div id=\"sk-container-id-3\" class=\"sk-top-container\"><div class=\"sk-text-repr-fallback\"><pre>MultinomialNB(alpha=0)</pre><b>In a Jupyter environment, please rerun this cell to show the HTML representation or trust the notebook. <br />On GitHub, the HTML representation is unable to render, please try loading this page with nbviewer.org.</b></div><div class=\"sk-container\" hidden><div class=\"sk-item\"><div class=\"sk-estimator sk-toggleable\"><input class=\"sk-toggleable__control sk-hidden--visually\" id=\"sk-estimator-id-3\" type=\"checkbox\" checked><label for=\"sk-estimator-id-3\" class=\"sk-toggleable__label sk-toggleable__label-arrow\">MultinomialNB</label><div class=\"sk-toggleable__content\"><pre>MultinomialNB(alpha=0)</pre></div></div></div></div></div>"
      ]
     },
     "metadata": {},
     "execution_count": 25
    }
   ],
   "source": [
    "params = { \"alpha\" : [0, 0.5 , 1.0] }  # smoothing parameter\n",
    "\n",
    "# Hyper parameter tuning\n",
    "random_search = RandomizedSearchCV(model, param_distributions = params, n_iter = 5,  scoring = 'roc_auc',\n",
    "                                   n_jobs = None, verbose = 3, cv =5 )\n",
    "random_search.fit(X,y)\n",
    "\n",
    "random_search.best_estimator_"
   ]
  },
  {
   "cell_type": "code",
   "execution_count": null,
   "metadata": {
    "id": "KtHPiSQE4k8u",
    "colab": {
     "base_uri": "https://localhost:8080/"
    },
    "outputId": "d673ce77-5a32-4698-cd19-8a1b8ed2da21"
   },
   "outputs": [
    {
     "output_type": "execute_result",
     "data": {
      "text/plain": [
       "{'alpha': 0}"
      ]
     },
     "metadata": {},
     "execution_count": 26
    }
   ],
   "source": [
    "random_search.best_params_"
   ]
  },
  {
   "cell_type": "code",
   "execution_count": null,
   "metadata": {
    "id": "rHacjhrP4k8u",
    "colab": {
     "base_uri": "https://localhost:8080/"
    },
    "outputId": "a86f24d9-c392-4cee-a68b-3bc2b685f07a"
   },
   "outputs": [
    {
     "output_type": "stream",
     "name": "stdout",
     "text": [
      "Accuracy of the model is :  99.6 %\n",
      "\n",
      "\n",
      "Confusion Matrix : \n",
      " [[ 372    1]\n",
      " [   7 1620]]\n",
      "\n",
      " True Positive Rate :  0.9956976029502151\n",
      "\n",
      " False Positive Rate :  0.002680965147453083\n"
     ]
    }
   ],
   "source": [
    "# Hyperparameter tuned model\n",
    "\n",
    "# 1. model build and train\n",
    "model = MultinomialNB(alpha=0)\n",
    "model.fit(X_train,y_train)\n",
    "\n",
    "# 2. Predict\n",
    "y_pred = model.predict(X_test)\n",
    "\n",
    "# 3. Evaluate\n",
    "tn, fp, fn, tp = confusion_matrix(y_test, y_pred).ravel()\n",
    "false_positive_rate = fp / (fp + tn)\n",
    "true_positive_rate = tp / (tp + fn)\n",
    "\n",
    "print(\"Accuracy of the model is : \", round(accuracy_score(y_test, y_pred)*100,2),\"%\\n\\n\")\n",
    "print(\"Confusion Matrix : \\n\", confusion_matrix(y_test, y_pred))\n",
    "print(\"\\n True Positive Rate : \",true_positive_rate )\n",
    "print(\"\\n False Positive Rate : \",false_positive_rate )"
   ]
  },
  {
   "cell_type": "code",
   "execution_count": null,
   "metadata": {
    "id": "D3ofOLXO4k8u",
    "colab": {
     "base_uri": "https://localhost:8080/"
    },
    "outputId": "9be44c75-1476-442f-deb8-c5e402efcac8"
   },
   "outputs": [
    {
     "output_type": "stream",
     "name": "stdout",
     "text": [
      "Accuracy of the model is :  99.75 %\n",
      "\n",
      "\n",
      "Confusion Matrix : \n",
      " [[1613    0]\n",
      " [   8 1591]]\n",
      "\n",
      " True Positive Rate :  0.9949968730456535\n",
      "\n",
      " False Positive Rate :  0.0\n"
     ]
    }
   ],
   "source": [
    "# Considering the balanced dataset\n",
    "from sklearn.naive_bayes import MultinomialNB\n",
    "\n",
    "# 1. Model build and train\n",
    "model = MultinomialNB(alpha=0)\n",
    "model.fit(X_bal_train,y_bal_train)\n",
    "\n",
    "# 2. Predict\n",
    "y_pred = model.predict(X_bal_test)\n",
    "\n",
    "# 3. Evaluate\n",
    "tn, fp, fn, tp = confusion_matrix(y_bal_test, y_pred).ravel()\n",
    "false_positive_rate = fp / (fp + tn)\n",
    "true_positive_rate = tp / (tp + fn)\n",
    "\n",
    "print(\"Accuracy of the model is : \", round(accuracy_score(y_bal_test, y_pred)*100,2),\"%\\n\\n\")\n",
    "print(\"Confusion Matrix : \\n\", confusion_matrix(y_bal_test, y_pred))\n",
    "print(\"\\n True Positive Rate : \",true_positive_rate )\n",
    "print(\"\\n False Positive Rate : \",false_positive_rate )"
   ]
  },
  {
   "cell_type": "code",
   "execution_count": null,
   "metadata": {
    "id": "yzdB2-IP4k8u"
   },
   "outputs": [],
   "source": [
    "# Cross validation on actual dataset\n",
    "from sklearn.model_selection import cross_val_score\n",
    "\n",
    "print(\"\\n---- Cross validation on actual dataset---\\n \")\n",
    "score = cross_val_score(model, X, y, cv = 10)\n",
    "print(score)\n",
    "print(\"\\n Average :\",round(score.mean() *100, 2))\n",
    "\n",
    "# Cross validation on balanced dataset\n",
    "print(\"\\n---- Cross validation on balanced dataset---\\n \")\n",
    "score = cross_val_score(model, X_balanced, y_balanced, cv = 10)\n",
    "print(score)\n",
    "print(\"\\n Average :\",round(score.mean() *100, 2))"
   ]
  },
  {
   "cell_type": "markdown",
   "metadata": {
    "id": "8NyER0uD4k8v"
   },
   "source": [
    "## Conclusion <a id = \"4\" text goes here></a>"
   ]
  },
  {
   "cell_type": "markdown",
   "metadata": {
    "id": "vop55MLu4k8v"
   },
   "source": [
    "\n",
    "| Sl.No. | Model | Accuracy (Ideal - 100%) |  True positive rate (Ideal - 1.0) | False Positive Rate (Ideal - 0.0)| Cross-validation Score | Remark |\n",
    "| :- | :- | :-: |:-: |:-: |:-: |-: |\n",
    "| 1. | Logistic Regression | 99.75% | 1.0  | 0.0137 | 99.45% |\n",
    "|    | Balanced Dataset    | 99.88% | 0.9974  | 0.0 | 99.82% | Best |\n",
    "| 2. | Random Forest Classifier | 99.6% | 0.9987  | 0.016 | 99.06% |No much affect on turing hyperparameter |\n",
    "|    |   |  |   || | |\n",
    "| 3. | ANN | 80.9% |   | |  | Poor - Dataset unsuitable for Neural Network |\n",
    "|    |   |  |   || | |\n",
    "| 4. | Naive Bayes | 97.9% | 0.9748  | 0.002 |  |\n",
    "|    | Post Hyperparameter tuning    | 99.6% | 0.9956  | 0.002 | 99.49% |\n",
    "|    | Balanced Dataset    | 99.75% | 0.9949  | 0.0 | 99.67% | Best |\n",
    "\n"
   ]
  },
  {
   "cell_type": "markdown",
   "metadata": {
    "id": "rML9HuvO4k8v"
   },
   "source": [
    "######  Logistic Regression and Naive Bayes on balanced dataset works the best for the given dataset.\n",
    "######  What percentage of incoming spam emails will be identifed in the future - **Logistic regression model assure that 99.88% of the incoming spam emails will be identified in the future.**\n"
   ]
  }
 ],
 "metadata": {
  "kernelspec": {
   "display_name": "Python 3",
   "name": "python3"
  },
  "language_info": {
   "codemirror_mode": {
    "name": "ipython",
    "version": 3
   },
   "file_extension": ".py",
   "mimetype": "text/x-python",
   "name": "python",
   "nbconvert_exporter": "python",
   "pygments_lexer": "ipython3",
   "version": "3.7.3"
  },
  "toc": {
   "base_numbering": 1,
   "nav_menu": {},
   "number_sections": true,
   "sideBar": true,
   "skip_h1_title": true,
   "title_cell": "",
   "title_sidebar": "Project Outline",
   "toc_cell": false,
   "toc_position": {
    "height": "calc(100% - 180px)",
    "left": "10px",
    "top": "150px",
    "width": "221px"
   },
   "toc_section_display": true,
   "toc_window_display": true
  },
  "colab": {
   "provenance": [],
   "collapsed_sections": [
    "LRIIW4114k8q",
    "W4da67Th4k8s",
    "phdjcUC34k8t",
    "t-hHnDTU4k8t",
    "-RB3S4GO4k8u"
   ],
   "machine_shape": "hm"
  }
 },
 "nbformat": 4,
 "nbformat_minor": 0
}
